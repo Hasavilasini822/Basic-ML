{
  "nbformat": 4,
  "nbformat_minor": 0,
  "metadata": {
    "colab": {
      "name": "appl assignmnet",
      "provenance": [],
      "authorship_tag": "ABX9TyM+3zPfFxA4rCbo164d1/6L",
      "include_colab_link": true
    },
    "kernelspec": {
      "name": "python3",
      "display_name": "Python 3"
    },
    "language_info": {
      "name": "python"
    }
  },
  "cells": [
    {
      "cell_type": "markdown",
      "metadata": {
        "id": "view-in-github",
        "colab_type": "text"
      },
      "source": [
        "<a href=\"https://colab.research.google.com/github/Hasavilasini822/Basic-ML/blob/main/appl_assignmnet.ipynb\" target=\"_parent\"><img src=\"https://colab.research.google.com/assets/colab-badge.svg\" alt=\"Open In Colab\"/></a>"
      ]
    },
    {
      "cell_type": "markdown",
      "metadata": {
        "id": "DAU_6gsDJluz"
      },
      "source": [
        "Python program to multiply two numbers\n"
      ]
    },
    {
      "cell_type": "code",
      "metadata": {
        "colab": {
          "base_uri": "https://localhost:8080/"
        },
        "id": "AGb-_lH0KD6L",
        "outputId": "16394ac9-e0fc-4e87-fb69-114df98bf8bb"
      },
      "source": [
        "a=int(input(\"enter a value:\"))\n",
        "b=int(input(\"enter b value:\"))\n",
        "c=a*b\n",
        "print(c)"
      ],
      "execution_count": 1,
      "outputs": [
        {
          "output_type": "stream",
          "text": [
            "enter a value:4\n",
            "enter b value:45\n",
            "180\n"
          ],
          "name": "stdout"
        }
      ]
    },
    {
      "cell_type": "markdown",
      "metadata": {
        "id": "mirpH1FWKvt2"
      },
      "source": [
        "Pyhton program to check whether the given number is even or odd\n",
        "\n"
      ]
    },
    {
      "cell_type": "code",
      "metadata": {
        "colab": {
          "base_uri": "https://localhost:8080/"
        },
        "id": "diWZQmM7La3A",
        "outputId": "b490b58a-4381-41c5-9c27-d01adec7d882"
      },
      "source": [
        "n=int(input(\"enter the number:\"))\n",
        "if n%2==0:\n",
        "  print(\"The given number is Even\")\n",
        "else:\n",
        "  print(\"The given number is Odd\")  "
      ],
      "execution_count": 6,
      "outputs": [
        {
          "output_type": "stream",
          "text": [
            "enter the number:79\n",
            "The given number is Odd\n"
          ],
          "name": "stdout"
        }
      ]
    },
    {
      "cell_type": "markdown",
      "metadata": {
        "id": "BHSRKa0hMNiy"
      },
      "source": [
        "Python program to display elements in Reverse order"
      ]
    },
    {
      "cell_type": "code",
      "metadata": {
        "colab": {
          "base_uri": "https://localhost:8080/"
        },
        "id": "iJqwiFikMbVL",
        "outputId": "94e8c4df-0cef-448e-a994-a0f6a91d9ef1"
      },
      "source": [
        "n=int(input(\"enter the number:\"))\n",
        "a=[]\n",
        "for i in range(0,n):\n",
        "  elem=int(input(\"enter the elements:\"))\n",
        "  a.append(elem)\n",
        "  print(a[::-1])\n",
        "\n"
      ],
      "execution_count": 8,
      "outputs": [
        {
          "output_type": "stream",
          "text": [
            "enter the number:4\n",
            "enter the elements:2\n",
            "[2]\n",
            "enter the elements:3\n",
            "[3, 2]\n",
            "enter the elements:4\n",
            "[4, 3, 2]\n",
            "enter the elements:5\n",
            "[5, 4, 3, 2]\n"
          ],
          "name": "stdout"
        }
      ]
    }
  ]
}